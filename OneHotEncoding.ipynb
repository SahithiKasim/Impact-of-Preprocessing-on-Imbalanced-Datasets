{
 "cells": [
  {
   "cell_type": "code",
   "execution_count": 1,
   "id": "2db24f4d",
   "metadata": {},
   "outputs": [],
   "source": [
    "import pandas as pd\n",
    "df = pd.read_feather(\"Data.ftr\")\n",
    "import time\n",
    "from sklearn.metrics import precision_score, recall_score, f1_score, accuracy_score"
   ]
  },
  {
   "cell_type": "markdown",
   "id": "6d19e5d4",
   "metadata": {},
   "source": [
    "## Dropping the customer id "
   ]
  },
  {
   "cell_type": "code",
   "execution_count": 2,
   "id": "00c2f1da",
   "metadata": {},
   "outputs": [
    {
     "data": {
      "text/html": [
       "<div>\n",
       "<style scoped>\n",
       "    .dataframe tbody tr th:only-of-type {\n",
       "        vertical-align: middle;\n",
       "    }\n",
       "\n",
       "    .dataframe tbody tr th {\n",
       "        vertical-align: top;\n",
       "    }\n",
       "\n",
       "    .dataframe thead th {\n",
       "        text-align: right;\n",
       "    }\n",
       "</style>\n",
       "<table border=\"1\" class=\"dataframe\">\n",
       "  <thead>\n",
       "    <tr style=\"text-align: right;\">\n",
       "      <th></th>\n",
       "      <th>index</th>\n",
       "      <th>P_2</th>\n",
       "      <th>year</th>\n",
       "      <th>month</th>\n",
       "      <th>day</th>\n",
       "      <th>D_39</th>\n",
       "      <th>B_1</th>\n",
       "      <th>B_2</th>\n",
       "      <th>R_1</th>\n",
       "      <th>S_3</th>\n",
       "      <th>...</th>\n",
       "      <th>D_137</th>\n",
       "      <th>D_138</th>\n",
       "      <th>D_139</th>\n",
       "      <th>D_140</th>\n",
       "      <th>D_141</th>\n",
       "      <th>D_142</th>\n",
       "      <th>D_143</th>\n",
       "      <th>D_144</th>\n",
       "      <th>D_145</th>\n",
       "      <th>Target</th>\n",
       "    </tr>\n",
       "  </thead>\n",
       "  <tbody>\n",
       "    <tr>\n",
       "      <th>0</th>\n",
       "      <td>1432714</td>\n",
       "      <td>0.674805</td>\n",
       "      <td>2017.0</td>\n",
       "      <td>6.0</td>\n",
       "      <td>22.0</td>\n",
       "      <td>0.596680</td>\n",
       "      <td>0.031982</td>\n",
       "      <td>1.007812</td>\n",
       "      <td>0.008217</td>\n",
       "      <td>0.174927</td>\n",
       "      <td>...</td>\n",
       "      <td>NaN</td>\n",
       "      <td>NaN</td>\n",
       "      <td>0.001536</td>\n",
       "      <td>0.004150</td>\n",
       "      <td>0.002407</td>\n",
       "      <td>NaN</td>\n",
       "      <td>0.009689</td>\n",
       "      <td>0.001431</td>\n",
       "      <td>0.009621</td>\n",
       "      <td>0</td>\n",
       "    </tr>\n",
       "    <tr>\n",
       "      <th>1</th>\n",
       "      <td>4278638</td>\n",
       "      <td>0.694336</td>\n",
       "      <td>2018.0</td>\n",
       "      <td>1.0</td>\n",
       "      <td>4.0</td>\n",
       "      <td>0.268311</td>\n",
       "      <td>0.055847</td>\n",
       "      <td>0.817871</td>\n",
       "      <td>0.006561</td>\n",
       "      <td>0.174072</td>\n",
       "      <td>...</td>\n",
       "      <td>NaN</td>\n",
       "      <td>NaN</td>\n",
       "      <td>1.003906</td>\n",
       "      <td>0.005562</td>\n",
       "      <td>0.929199</td>\n",
       "      <td>0.337402</td>\n",
       "      <td>1.001953</td>\n",
       "      <td>0.003347</td>\n",
       "      <td>0.093628</td>\n",
       "      <td>0</td>\n",
       "    </tr>\n",
       "    <tr>\n",
       "      <th>2</th>\n",
       "      <td>1821472</td>\n",
       "      <td>0.850586</td>\n",
       "      <td>2018.0</td>\n",
       "      <td>1.0</td>\n",
       "      <td>4.0</td>\n",
       "      <td>0.004910</td>\n",
       "      <td>0.005058</td>\n",
       "      <td>0.811523</td>\n",
       "      <td>0.008026</td>\n",
       "      <td>0.192871</td>\n",
       "      <td>...</td>\n",
       "      <td>NaN</td>\n",
       "      <td>NaN</td>\n",
       "      <td>0.000739</td>\n",
       "      <td>0.007881</td>\n",
       "      <td>0.000373</td>\n",
       "      <td>NaN</td>\n",
       "      <td>0.000974</td>\n",
       "      <td>0.005032</td>\n",
       "      <td>0.006668</td>\n",
       "      <td>0</td>\n",
       "    </tr>\n",
       "    <tr>\n",
       "      <th>3</th>\n",
       "      <td>3826135</td>\n",
       "      <td>0.815918</td>\n",
       "      <td>2017.0</td>\n",
       "      <td>5.0</td>\n",
       "      <td>12.0</td>\n",
       "      <td>0.005737</td>\n",
       "      <td>0.010452</td>\n",
       "      <td>1.007812</td>\n",
       "      <td>0.002213</td>\n",
       "      <td>0.117981</td>\n",
       "      <td>...</td>\n",
       "      <td>NaN</td>\n",
       "      <td>NaN</td>\n",
       "      <td>0.005707</td>\n",
       "      <td>0.007473</td>\n",
       "      <td>0.007141</td>\n",
       "      <td>NaN</td>\n",
       "      <td>0.008278</td>\n",
       "      <td>0.001192</td>\n",
       "      <td>0.007935</td>\n",
       "      <td>0</td>\n",
       "    </tr>\n",
       "    <tr>\n",
       "      <th>4</th>\n",
       "      <td>5253960</td>\n",
       "      <td>0.899902</td>\n",
       "      <td>2018.0</td>\n",
       "      <td>3.0</td>\n",
       "      <td>26.0</td>\n",
       "      <td>0.090088</td>\n",
       "      <td>0.010933</td>\n",
       "      <td>1.008789</td>\n",
       "      <td>0.008041</td>\n",
       "      <td>0.122437</td>\n",
       "      <td>...</td>\n",
       "      <td>NaN</td>\n",
       "      <td>NaN</td>\n",
       "      <td>0.008476</td>\n",
       "      <td>0.007244</td>\n",
       "      <td>0.005856</td>\n",
       "      <td>NaN</td>\n",
       "      <td>0.006340</td>\n",
       "      <td>0.008934</td>\n",
       "      <td>0.003929</td>\n",
       "      <td>0</td>\n",
       "    </tr>\n",
       "    <tr>\n",
       "      <th>...</th>\n",
       "      <td>...</td>\n",
       "      <td>...</td>\n",
       "      <td>...</td>\n",
       "      <td>...</td>\n",
       "      <td>...</td>\n",
       "      <td>...</td>\n",
       "      <td>...</td>\n",
       "      <td>...</td>\n",
       "      <td>...</td>\n",
       "      <td>...</td>\n",
       "      <td>...</td>\n",
       "      <td>...</td>\n",
       "      <td>...</td>\n",
       "      <td>...</td>\n",
       "      <td>...</td>\n",
       "      <td>...</td>\n",
       "      <td>...</td>\n",
       "      <td>...</td>\n",
       "      <td>...</td>\n",
       "      <td>...</td>\n",
       "      <td>...</td>\n",
       "    </tr>\n",
       "    <tr>\n",
       "      <th>2212575</th>\n",
       "      <td>5030793</td>\n",
       "      <td>0.163818</td>\n",
       "      <td>2017.0</td>\n",
       "      <td>7.0</td>\n",
       "      <td>6.0</td>\n",
       "      <td>0.122192</td>\n",
       "      <td>0.162476</td>\n",
       "      <td>0.135132</td>\n",
       "      <td>0.001577</td>\n",
       "      <td>0.146484</td>\n",
       "      <td>...</td>\n",
       "      <td>NaN</td>\n",
       "      <td>NaN</td>\n",
       "      <td>0.004353</td>\n",
       "      <td>0.006596</td>\n",
       "      <td>0.008560</td>\n",
       "      <td>NaN</td>\n",
       "      <td>0.007706</td>\n",
       "      <td>0.009628</td>\n",
       "      <td>0.003382</td>\n",
       "      <td>1</td>\n",
       "    </tr>\n",
       "    <tr>\n",
       "      <th>2212576</th>\n",
       "      <td>491263</td>\n",
       "      <td>0.402588</td>\n",
       "      <td>2017.0</td>\n",
       "      <td>6.0</td>\n",
       "      <td>3.0</td>\n",
       "      <td>0.038605</td>\n",
       "      <td>0.072083</td>\n",
       "      <td>0.811523</td>\n",
       "      <td>0.004528</td>\n",
       "      <td>0.177856</td>\n",
       "      <td>...</td>\n",
       "      <td>NaN</td>\n",
       "      <td>NaN</td>\n",
       "      <td>0.004704</td>\n",
       "      <td>0.009277</td>\n",
       "      <td>0.001515</td>\n",
       "      <td>NaN</td>\n",
       "      <td>0.003225</td>\n",
       "      <td>0.005203</td>\n",
       "      <td>0.007736</td>\n",
       "      <td>1</td>\n",
       "    </tr>\n",
       "    <tr>\n",
       "      <th>2212577</th>\n",
       "      <td>3937352</td>\n",
       "      <td>0.812500</td>\n",
       "      <td>2017.0</td>\n",
       "      <td>8.0</td>\n",
       "      <td>24.0</td>\n",
       "      <td>0.210083</td>\n",
       "      <td>0.148315</td>\n",
       "      <td>0.041138</td>\n",
       "      <td>0.009972</td>\n",
       "      <td>0.096680</td>\n",
       "      <td>...</td>\n",
       "      <td>NaN</td>\n",
       "      <td>NaN</td>\n",
       "      <td>0.002039</td>\n",
       "      <td>0.003349</td>\n",
       "      <td>0.007843</td>\n",
       "      <td>NaN</td>\n",
       "      <td>0.002094</td>\n",
       "      <td>0.004456</td>\n",
       "      <td>0.001372</td>\n",
       "      <td>0</td>\n",
       "    </tr>\n",
       "    <tr>\n",
       "      <th>2212578</th>\n",
       "      <td>4686059</td>\n",
       "      <td>0.700195</td>\n",
       "      <td>2017.0</td>\n",
       "      <td>9.0</td>\n",
       "      <td>11.0</td>\n",
       "      <td>0.007904</td>\n",
       "      <td>0.021210</td>\n",
       "      <td>1.003906</td>\n",
       "      <td>0.023834</td>\n",
       "      <td>0.123962</td>\n",
       "      <td>...</td>\n",
       "      <td>NaN</td>\n",
       "      <td>NaN</td>\n",
       "      <td>0.005547</td>\n",
       "      <td>0.008049</td>\n",
       "      <td>0.007561</td>\n",
       "      <td>NaN</td>\n",
       "      <td>0.006004</td>\n",
       "      <td>0.005024</td>\n",
       "      <td>0.004902</td>\n",
       "      <td>0</td>\n",
       "    </tr>\n",
       "    <tr>\n",
       "      <th>2212579</th>\n",
       "      <td>4322341</td>\n",
       "      <td>0.884766</td>\n",
       "      <td>2017.0</td>\n",
       "      <td>11.0</td>\n",
       "      <td>12.0</td>\n",
       "      <td>0.004349</td>\n",
       "      <td>0.098877</td>\n",
       "      <td>1.003906</td>\n",
       "      <td>0.004673</td>\n",
       "      <td>0.179321</td>\n",
       "      <td>...</td>\n",
       "      <td>NaN</td>\n",
       "      <td>NaN</td>\n",
       "      <td>0.000313</td>\n",
       "      <td>0.009201</td>\n",
       "      <td>0.009659</td>\n",
       "      <td>NaN</td>\n",
       "      <td>0.005627</td>\n",
       "      <td>0.008781</td>\n",
       "      <td>0.005711</td>\n",
       "      <td>0</td>\n",
       "    </tr>\n",
       "  </tbody>\n",
       "</table>\n",
       "<p>2212580 rows × 193 columns</p>\n",
       "</div>"
      ],
      "text/plain": [
       "           index       P_2    year  month   day      D_39       B_1       B_2  \\\n",
       "0        1432714  0.674805  2017.0    6.0  22.0  0.596680  0.031982  1.007812   \n",
       "1        4278638  0.694336  2018.0    1.0   4.0  0.268311  0.055847  0.817871   \n",
       "2        1821472  0.850586  2018.0    1.0   4.0  0.004910  0.005058  0.811523   \n",
       "3        3826135  0.815918  2017.0    5.0  12.0  0.005737  0.010452  1.007812   \n",
       "4        5253960  0.899902  2018.0    3.0  26.0  0.090088  0.010933  1.008789   \n",
       "...          ...       ...     ...    ...   ...       ...       ...       ...   \n",
       "2212575  5030793  0.163818  2017.0    7.0   6.0  0.122192  0.162476  0.135132   \n",
       "2212576   491263  0.402588  2017.0    6.0   3.0  0.038605  0.072083  0.811523   \n",
       "2212577  3937352  0.812500  2017.0    8.0  24.0  0.210083  0.148315  0.041138   \n",
       "2212578  4686059  0.700195  2017.0    9.0  11.0  0.007904  0.021210  1.003906   \n",
       "2212579  4322341  0.884766  2017.0   11.0  12.0  0.004349  0.098877  1.003906   \n",
       "\n",
       "              R_1       S_3  ...  D_137  D_138     D_139     D_140     D_141  \\\n",
       "0        0.008217  0.174927  ...    NaN    NaN  0.001536  0.004150  0.002407   \n",
       "1        0.006561  0.174072  ...    NaN    NaN  1.003906  0.005562  0.929199   \n",
       "2        0.008026  0.192871  ...    NaN    NaN  0.000739  0.007881  0.000373   \n",
       "3        0.002213  0.117981  ...    NaN    NaN  0.005707  0.007473  0.007141   \n",
       "4        0.008041  0.122437  ...    NaN    NaN  0.008476  0.007244  0.005856   \n",
       "...           ...       ...  ...    ...    ...       ...       ...       ...   \n",
       "2212575  0.001577  0.146484  ...    NaN    NaN  0.004353  0.006596  0.008560   \n",
       "2212576  0.004528  0.177856  ...    NaN    NaN  0.004704  0.009277  0.001515   \n",
       "2212577  0.009972  0.096680  ...    NaN    NaN  0.002039  0.003349  0.007843   \n",
       "2212578  0.023834  0.123962  ...    NaN    NaN  0.005547  0.008049  0.007561   \n",
       "2212579  0.004673  0.179321  ...    NaN    NaN  0.000313  0.009201  0.009659   \n",
       "\n",
       "            D_142     D_143     D_144     D_145  Target  \n",
       "0             NaN  0.009689  0.001431  0.009621       0  \n",
       "1        0.337402  1.001953  0.003347  0.093628       0  \n",
       "2             NaN  0.000974  0.005032  0.006668       0  \n",
       "3             NaN  0.008278  0.001192  0.007935       0  \n",
       "4             NaN  0.006340  0.008934  0.003929       0  \n",
       "...           ...       ...       ...       ...     ...  \n",
       "2212575       NaN  0.007706  0.009628  0.003382       1  \n",
       "2212576       NaN  0.003225  0.005203  0.007736       1  \n",
       "2212577       NaN  0.002094  0.004456  0.001372       0  \n",
       "2212578       NaN  0.006004  0.005024  0.004902       0  \n",
       "2212579       NaN  0.005627  0.008781  0.005711       0  \n",
       "\n",
       "[2212580 rows x 193 columns]"
      ]
     },
     "execution_count": 2,
     "metadata": {},
     "output_type": "execute_result"
    }
   ],
   "source": [
    "df"
   ]
  },
  {
   "cell_type": "code",
   "execution_count": 3,
   "id": "5534e97d",
   "metadata": {},
   "outputs": [],
   "source": [
    "df.drop('index',axis=1,inplace=True)"
   ]
  },
  {
   "cell_type": "code",
   "execution_count": 4,
   "id": "28aa5f32",
   "metadata": {},
   "outputs": [],
   "source": [
    "X, y = df.drop(\"Target\", axis = 1, inplace = False), df[\"Target\"]"
   ]
  },
  {
   "cell_type": "markdown",
   "id": "769dcac5",
   "metadata": {},
   "source": [
    "## One hot encoding "
   ]
  },
  {
   "cell_type": "code",
   "execution_count": 5,
   "id": "cdb371e6",
   "metadata": {},
   "outputs": [],
   "source": [
    "X_cat_mean =pd.get_dummies(X, columns=['B_30', 'B_38', 'D_114', 'D_116', 'D_117', 'D_120', 'D_126', 'D_63', 'D_64', 'D_66', 'D_68'], drop_first=True)\n",
    "X_cat_Normalize = pd.get_dummies(X, columns=['B_30', 'B_38', 'D_114', 'D_116', 'D_117', 'D_120', 'D_126', 'D_63', 'D_64', 'D_66', 'D_68'], drop_first=True)"
   ]
  },
  {
   "cell_type": "markdown",
   "id": "618175d8",
   "metadata": {},
   "source": [
    "# Filling Null Values "
   ]
  },
  {
   "cell_type": "code",
   "execution_count": 6,
   "id": "6781f531",
   "metadata": {},
   "outputs": [],
   "source": [
    "# Fill missing values with mean column values in the train set\n",
    "for col in X_cat_mean.columns:\n",
    "    X_cat_mean[col].fillna((X_cat_mean[col].mean()), inplace=True)\n",
    "\n",
    "X_cat_mean.fillna(X_cat_mean['D_142'].astype(float).mean(),inplace=True)\n",
    "X_cat_mean.fillna(X_cat_mean['P_2'].astype(float).mean(),inplace=True)\n"
   ]
  },
  {
   "cell_type": "code",
   "execution_count": 7,
   "id": "a7afca31",
   "metadata": {},
   "outputs": [],
   "source": [
    "from sklearn.model_selection import train_test_split\n",
    "X_train, X_test, y_train, y_test = train_test_split(X_cat_mean, y, test_size=0.3)"
   ]
  },
  {
   "cell_type": "code",
   "execution_count": 8,
   "id": "b4387689",
   "metadata": {},
   "outputs": [
    {
     "name": "stdout",
     "output_type": "stream",
     "text": [
      "-441.55473828315735\n"
     ]
    }
   ],
   "source": [
    "seconds1 = time.time()\n",
    "from xgboost import XGBClassifier as xgb\n",
    "xgb_clf = xgb()\n",
    "xgb_clf.fit(X_train, y_train)\n",
    "results1=xgb_clf.predict(X_test)\n",
    "\n",
    "from sklearn.metrics import accuracy_score\n",
    "accuracy_score(y_test,results1)\n",
    "seconds2= seconds = time.time()\n",
    "time1=seconds1-seconds2\n",
    "print(time1)"
   ]
  },
  {
   "cell_type": "code",
   "execution_count": 10,
   "id": "e9ffd455",
   "metadata": {},
   "outputs": [
    {
     "name": "stdout",
     "output_type": "stream",
     "text": [
      "precision\n",
      "0.7628668535261107\n",
      "recall\n",
      "0.7579176910484636\n",
      "accuracy\n",
      "0.8808660779120604\n",
      "F1\n",
      "0.7603842191382342\n"
     ]
    }
   ],
   "source": [
    "# Calculate precision and recall\n",
    "from sklearn.metrics import precision_score, recall_score\n",
    "print(\"precision\")\n",
    "print(precision_score(y_test, results1))\n",
    "print(\"recall\")\n",
    "print(recall_score(y_test, results1))\n",
    "print(\"accuracy\")\n",
    "print(accuracy_score(y_test,results1))\n",
    "print(\"F1\")\n",
    "print(f1_score(y_test,results1))\n"
   ]
  },
  {
   "cell_type": "code",
   "execution_count": 10,
   "id": "3646fd42",
   "metadata": {},
   "outputs": [
    {
     "data": {
      "text/plain": [
       "0.7582896187441697"
      ]
     },
     "execution_count": 10,
     "metadata": {},
     "output_type": "execute_result"
    }
   ],
   "source": []
  },
  {
   "cell_type": "code",
   "execution_count": 11,
   "id": "0e65e403",
   "metadata": {},
   "outputs": [
    {
     "name": "stdout",
     "output_type": "stream",
     "text": [
      "              precision    recall  f1-score   support\n",
      "\n",
      "           0       0.92      0.92      0.92    498688\n",
      "           1       0.76      0.76      0.76    165086\n",
      "\n",
      "    accuracy                           0.88    663774\n",
      "   macro avg       0.84      0.84      0.84    663774\n",
      "weighted avg       0.88      0.88      0.88    663774\n",
      "\n"
     ]
    }
   ],
   "source": [
    "# Perform a comparitive analysis of the models\n",
    "from sklearn.metrics import classification_report\n",
    "print(classification_report(y_test,results1))"
   ]
  },
  {
   "cell_type": "code",
   "execution_count": 12,
   "id": "560120cc",
   "metadata": {},
   "outputs": [],
   "source": [
    "\n"
   ]
  },
  {
   "cell_type": "code",
   "execution_count": 13,
   "id": "f4d3f34c",
   "metadata": {},
   "outputs": [
    {
     "data": {
      "text/plain": [
       "0.8518803086592726"
      ]
     },
     "execution_count": 13,
     "metadata": {},
     "output_type": "execute_result"
    }
   ],
   "source": []
  },
  {
   "cell_type": "markdown",
   "id": "9c533e4d",
   "metadata": {},
   "source": [
    "# Mode "
   ]
  },
  {
   "cell_type": "code",
   "execution_count": 11,
   "id": "5318bb3e",
   "metadata": {},
   "outputs": [],
   "source": [
    "# Perform One Hot Encoding on categorical features\n",
    "X_cat_mode = pd.get_dummies(X, columns=['B_30', 'B_38', 'D_114', 'D_116', 'D_117', 'D_120', 'D_126', 'D_63', 'D_64', 'D_66', 'D_68'], drop_first=True)"
   ]
  },
  {
   "cell_type": "code",
   "execution_count": 12,
   "id": "c8890df2",
   "metadata": {},
   "outputs": [],
   "source": [
    "# Fill missing values with mode column values in the train set\n",
    "for col in X_cat_mode.columns:\n",
    "    X_cat_mode[col].fillna((X_cat_mode[col].mode()[0]), inplace=True)\n",
    "\n",
    "X_cat_mode.fillna(X_cat_mode['D_142'].astype(float).mode()[0],inplace=True)\n",
    "X_cat_mode.fillna(X_cat_mode['P_2'].astype(float).mode()[0],inplace=True)"
   ]
  },
  {
   "cell_type": "code",
   "execution_count": 13,
   "id": "8802d39b",
   "metadata": {},
   "outputs": [
    {
     "name": "stdout",
     "output_type": "stream",
     "text": [
      "436.9243462085724\n"
     ]
    }
   ],
   "source": [
    "# Split the data into train and test sets\n",
    "\n",
    "X_train, X_test, y_train, y_test = train_test_split(X_cat_mode, y, test_size=0.3)\n",
    "\n",
    "# Train the model\n",
    "seconds1 = time.time()\n",
    "xgb_clf.fit(X_train, y_train)\n",
    "seconds2= seconds = time.time()\n",
    "print(seconds2-seconds1)\n",
    "results2=xgb_clf.predict(X_test)\n",
    "\n",
    "# Calculate accuracy score\n"
   ]
  },
  {
   "cell_type": "code",
   "execution_count": 15,
   "id": "2e224edf",
   "metadata": {},
   "outputs": [
    {
     "name": "stdout",
     "output_type": "stream",
     "text": [
      "precision\n",
      "0.7635547000320821\n",
      "recall\n",
      "0.7613058199397666\n",
      "accuracy\n",
      "0.8815711371641552\n",
      "F1\n",
      "0.7624286016500952\n"
     ]
    }
   ],
   "source": [
    "# Calculate precision and recall\n",
    "from sklearn.metrics import precision_score, recall_score\n",
    "print(\"precision\")\n",
    "print(precision_score(y_test, results2))\n",
    "print(\"recall\")\n",
    "print(recall_score(y_test, results2))\n",
    "print(\"accuracy\")\n",
    "print(accuracy_score(y_test,results2))\n",
    "print(\"F1\")\n",
    "print(f1_score(y_test,results2))"
   ]
  },
  {
   "cell_type": "markdown",
   "id": "aee2b508",
   "metadata": {},
   "source": [
    "# Median"
   ]
  },
  {
   "cell_type": "code",
   "execution_count": 16,
   "id": "f556020f",
   "metadata": {},
   "outputs": [],
   "source": [
    "# Perform One Hot Encoding on categorical features\n",
    "X_cat_median = pd.get_dummies(X, columns=['B_30', 'B_38', 'D_114', 'D_116', 'D_117', 'D_120', 'D_126', 'D_63', 'D_64', 'D_66', 'D_68'], drop_first=True)\n",
    "\n",
    "# Fill missing values with median column values in the train set\n",
    "for col in X_cat_median.columns:\n",
    "    X_cat_median[col].fillna((X_cat_median[col].median()), inplace=True)\n",
    "\n",
    "X_cat_median.fillna(X_cat_median['D_142'].astype(float).median(),inplace=True)\n",
    "X_cat_median.fillna(X_cat_median['P_2'].astype(float).median(),inplace=True)\n",
    "\n",
    "# Split the data into train and test sets\n",
    "X_train, X_test, y_train, y_test = train_test_split(X_cat_median, y, test_size=0.3)"
   ]
  },
  {
   "cell_type": "code",
   "execution_count": 17,
   "id": "a9be5ac5",
   "metadata": {},
   "outputs": [
    {
     "name": "stdout",
     "output_type": "stream",
     "text": [
      "434.74010586738586\n"
     ]
    }
   ],
   "source": [
    "# Train the model\n",
    "seconds1 = time.time()\n",
    "xgb_clf = xgb()\n",
    "xgb_clf.fit(X_train, y_train)\n",
    "seconds2=time.time()\n",
    "print(seconds2-seconds1)\n",
    "results3=xgb_clf.predict(X_test)\n",
    "\n"
   ]
  },
  {
   "cell_type": "code",
   "execution_count": 19,
   "id": "0197835d",
   "metadata": {},
   "outputs": [
    {
     "name": "stdout",
     "output_type": "stream",
     "text": [
      "precision\n",
      "0.7631732133545156\n",
      "recall\n",
      "0.7591683354645692\n",
      "accuracy\n",
      "0.8810076923772248\n",
      "F1\n",
      "0.7611655065224096\n"
     ]
    }
   ],
   "source": [
    "# Calculate precision and recall\n",
    "print(\"precision\")\n",
    "print(precision_score(y_test, results3))\n",
    "print(\"recall\")\n",
    "print(recall_score(y_test, results3))\n",
    "print(\"accuracy\")\n",
    "print(accuracy_score(y_test,results3))\n",
    "print(\"F1\")\n",
    "print(f1_score(y_test,results3))"
   ]
  },
  {
   "cell_type": "markdown",
   "id": "71380796",
   "metadata": {},
   "source": [
    "## training without any preprocessing  "
   ]
  },
  {
   "cell_type": "code",
   "execution_count": 20,
   "id": "550c1d7e",
   "metadata": {},
   "outputs": [
    {
     "name": "stdout",
     "output_type": "stream",
     "text": [
      "513.3358521461487\n"
     ]
    }
   ],
   "source": [
    "# Perform One Hot Encoding on categorical features\n",
    "X_cat_zero = pd.get_dummies(X, columns=['B_30', 'B_38', 'D_114', 'D_116', 'D_117', 'D_120', 'D_126', 'D_63', 'D_64', 'D_66', 'D_68'], drop_first=True)\n",
    "\n",
    "# Directly use the data without any preprocessing\n",
    "X_train, X_test, y_train, y_test = train_test_split(X_cat_zero, y, test_size=0.3)\n",
    "\n",
    "# Train the model\n",
    "sleep1=time.time()\n",
    "xgb_clf = xgb()\n",
    "xgb_clf.fit(X_train, y_train)\n",
    "sleep2=time.time()\n",
    "print(sleep2-sleep1)\n",
    "results4=xgb_clf.predict(X_test)\n"
   ]
  },
  {
   "cell_type": "code",
   "execution_count": 21,
   "id": "869f6c12",
   "metadata": {},
   "outputs": [
    {
     "name": "stdout",
     "output_type": "stream",
     "text": [
      "precision\n",
      "0.7627207182035194\n",
      "recall\n",
      "0.7600154945859737\n",
      "accuracy\n",
      "0.8814144573303564\n",
      "F1\n",
      "0.7613657034063761\n"
     ]
    }
   ],
   "source": [
    "print(\"precision\")\n",
    "print(precision_score(y_test, results4))\n",
    "print(\"recall\")\n",
    "print(recall_score(y_test, results4))\n",
    "print(\"accuracy\")\n",
    "print(accuracy_score(y_test,results4))\n",
    "print(\"F1\")\n",
    "print(f1_score(y_test,results4))"
   ]
  },
  {
   "cell_type": "code",
   "execution_count": 22,
   "id": "b65179ba",
   "metadata": {},
   "outputs": [
    {
     "data": {
      "text/plain": [
       "0         NaN\n",
       "1         NaN\n",
       "2         NaN\n",
       "3         NaN\n",
       "4         NaN\n",
       "           ..\n",
       "2212575   NaN\n",
       "2212576   NaN\n",
       "2212577   NaN\n",
       "2212578   NaN\n",
       "2212579   NaN\n",
       "Name: D_137, Length: 2212580, dtype: float16"
      ]
     },
     "execution_count": 22,
     "metadata": {},
     "output_type": "execute_result"
    }
   ],
   "source": [
    "X_cat_zero['D_137']"
   ]
  },
  {
   "cell_type": "markdown",
   "id": "65c20178",
   "metadata": {},
   "source": [
    "## Normilization "
   ]
  },
  {
   "cell_type": "code",
   "execution_count": 23,
   "id": "0811aa16",
   "metadata": {},
   "outputs": [],
   "source": [
    "for col in X_cat_mean.columns:\n",
    "    X_cat_Normalize[col].fillna((X_cat_mean[col].mean()), inplace=True)\n",
    "\n",
    "X_cat_Normalize.fillna(X_cat_mean['D_142'].astype(float).mean(),inplace=True)\n",
    "X_cat_Normalize.fillna(X_cat_mean['P_2'].astype(float).mean(),inplace=True)"
   ]
  },
  {
   "cell_type": "code",
   "execution_count": 24,
   "id": "ee3c6d37",
   "metadata": {},
   "outputs": [
    {
     "data": {
      "text/html": [
       "<div>\n",
       "<style scoped>\n",
       "    .dataframe tbody tr th:only-of-type {\n",
       "        vertical-align: middle;\n",
       "    }\n",
       "\n",
       "    .dataframe tbody tr th {\n",
       "        vertical-align: top;\n",
       "    }\n",
       "\n",
       "    .dataframe thead th {\n",
       "        text-align: right;\n",
       "    }\n",
       "</style>\n",
       "<table border=\"1\" class=\"dataframe\">\n",
       "  <thead>\n",
       "    <tr style=\"text-align: right;\">\n",
       "      <th></th>\n",
       "      <th>P_2</th>\n",
       "      <th>year</th>\n",
       "      <th>month</th>\n",
       "      <th>day</th>\n",
       "      <th>D_39</th>\n",
       "      <th>B_1</th>\n",
       "      <th>B_2</th>\n",
       "      <th>R_1</th>\n",
       "      <th>S_3</th>\n",
       "      <th>D_41</th>\n",
       "      <th>...</th>\n",
       "      <th>D_64_O</th>\n",
       "      <th>D_64_R</th>\n",
       "      <th>D_64_U</th>\n",
       "      <th>D_66_1.0</th>\n",
       "      <th>D_68_1.0</th>\n",
       "      <th>D_68_2.0</th>\n",
       "      <th>D_68_3.0</th>\n",
       "      <th>D_68_4.0</th>\n",
       "      <th>D_68_5.0</th>\n",
       "      <th>D_68_6.0</th>\n",
       "    </tr>\n",
       "  </thead>\n",
       "  <tbody>\n",
       "    <tr>\n",
       "      <th>0</th>\n",
       "      <td>0.000335</td>\n",
       "      <td>0.999932</td>\n",
       "      <td>0.002975</td>\n",
       "      <td>0.010907</td>\n",
       "      <td>0.000296</td>\n",
       "      <td>0.000016</td>\n",
       "      <td>0.000500</td>\n",
       "      <td>4.073525e-06</td>\n",
       "      <td>0.000087</td>\n",
       "      <td>5.011533e-07</td>\n",
       "      <td>...</td>\n",
       "      <td>0.000496</td>\n",
       "      <td>0.000000</td>\n",
       "      <td>0.000000</td>\n",
       "      <td>0.000000</td>\n",
       "      <td>0.0</td>\n",
       "      <td>0.000000</td>\n",
       "      <td>0.000000</td>\n",
       "      <td>0.000000</td>\n",
       "      <td>0.000000</td>\n",
       "      <td>0.000496</td>\n",
       "    </tr>\n",
       "    <tr>\n",
       "      <th>1</th>\n",
       "      <td>0.000344</td>\n",
       "      <td>0.999994</td>\n",
       "      <td>0.000496</td>\n",
       "      <td>0.001982</td>\n",
       "      <td>0.000133</td>\n",
       "      <td>0.000028</td>\n",
       "      <td>0.000405</td>\n",
       "      <td>3.251359e-06</td>\n",
       "      <td>0.000086</td>\n",
       "      <td>8.681318e-07</td>\n",
       "      <td>...</td>\n",
       "      <td>0.000000</td>\n",
       "      <td>0.000496</td>\n",
       "      <td>0.000000</td>\n",
       "      <td>0.000496</td>\n",
       "      <td>0.0</td>\n",
       "      <td>0.000000</td>\n",
       "      <td>0.000496</td>\n",
       "      <td>0.000000</td>\n",
       "      <td>0.000000</td>\n",
       "      <td>0.000000</td>\n",
       "    </tr>\n",
       "    <tr>\n",
       "      <th>2</th>\n",
       "      <td>0.000421</td>\n",
       "      <td>0.999994</td>\n",
       "      <td>0.000496</td>\n",
       "      <td>0.001982</td>\n",
       "      <td>0.000002</td>\n",
       "      <td>0.000003</td>\n",
       "      <td>0.000402</td>\n",
       "      <td>3.977243e-06</td>\n",
       "      <td>0.000096</td>\n",
       "      <td>3.026409e-06</td>\n",
       "      <td>...</td>\n",
       "      <td>0.000496</td>\n",
       "      <td>0.000000</td>\n",
       "      <td>0.000000</td>\n",
       "      <td>0.000000</td>\n",
       "      <td>0.0</td>\n",
       "      <td>0.000000</td>\n",
       "      <td>0.000000</td>\n",
       "      <td>0.000000</td>\n",
       "      <td>0.000000</td>\n",
       "      <td>0.000496</td>\n",
       "    </tr>\n",
       "    <tr>\n",
       "      <th>3</th>\n",
       "      <td>0.000405</td>\n",
       "      <td>0.999975</td>\n",
       "      <td>0.002479</td>\n",
       "      <td>0.005949</td>\n",
       "      <td>0.000003</td>\n",
       "      <td>0.000005</td>\n",
       "      <td>0.000500</td>\n",
       "      <td>1.096911e-06</td>\n",
       "      <td>0.000058</td>\n",
       "      <td>4.315777e-06</td>\n",
       "      <td>...</td>\n",
       "      <td>0.000496</td>\n",
       "      <td>0.000000</td>\n",
       "      <td>0.000000</td>\n",
       "      <td>0.000000</td>\n",
       "      <td>0.0</td>\n",
       "      <td>0.000000</td>\n",
       "      <td>0.000000</td>\n",
       "      <td>0.000000</td>\n",
       "      <td>0.000000</td>\n",
       "      <td>0.000496</td>\n",
       "    </tr>\n",
       "    <tr>\n",
       "      <th>4</th>\n",
       "      <td>0.000446</td>\n",
       "      <td>0.999912</td>\n",
       "      <td>0.001486</td>\n",
       "      <td>0.012883</td>\n",
       "      <td>0.000045</td>\n",
       "      <td>0.000005</td>\n",
       "      <td>0.000500</td>\n",
       "      <td>3.984478e-06</td>\n",
       "      <td>0.000061</td>\n",
       "      <td>1.777705e-06</td>\n",
       "      <td>...</td>\n",
       "      <td>0.000495</td>\n",
       "      <td>0.000000</td>\n",
       "      <td>0.000000</td>\n",
       "      <td>0.000000</td>\n",
       "      <td>0.0</td>\n",
       "      <td>0.000000</td>\n",
       "      <td>0.000000</td>\n",
       "      <td>0.000000</td>\n",
       "      <td>0.000000</td>\n",
       "      <td>0.000495</td>\n",
       "    </tr>\n",
       "    <tr>\n",
       "      <th>...</th>\n",
       "      <td>...</td>\n",
       "      <td>...</td>\n",
       "      <td>...</td>\n",
       "      <td>...</td>\n",
       "      <td>...</td>\n",
       "      <td>...</td>\n",
       "      <td>...</td>\n",
       "      <td>...</td>\n",
       "      <td>...</td>\n",
       "      <td>...</td>\n",
       "      <td>...</td>\n",
       "      <td>...</td>\n",
       "      <td>...</td>\n",
       "      <td>...</td>\n",
       "      <td>...</td>\n",
       "      <td>...</td>\n",
       "      <td>...</td>\n",
       "      <td>...</td>\n",
       "      <td>...</td>\n",
       "      <td>...</td>\n",
       "      <td>...</td>\n",
       "    </tr>\n",
       "    <tr>\n",
       "      <th>2212575</th>\n",
       "      <td>0.000081</td>\n",
       "      <td>0.999986</td>\n",
       "      <td>0.003470</td>\n",
       "      <td>0.002975</td>\n",
       "      <td>0.000061</td>\n",
       "      <td>0.000081</td>\n",
       "      <td>0.000067</td>\n",
       "      <td>7.820305e-07</td>\n",
       "      <td>0.000073</td>\n",
       "      <td>2.091719e-06</td>\n",
       "      <td>...</td>\n",
       "      <td>0.000000</td>\n",
       "      <td>0.000496</td>\n",
       "      <td>0.000000</td>\n",
       "      <td>0.000000</td>\n",
       "      <td>0.0</td>\n",
       "      <td>0.000000</td>\n",
       "      <td>0.000000</td>\n",
       "      <td>0.000000</td>\n",
       "      <td>0.000496</td>\n",
       "      <td>0.000000</td>\n",
       "    </tr>\n",
       "    <tr>\n",
       "      <th>2212576</th>\n",
       "      <td>0.000200</td>\n",
       "      <td>0.999992</td>\n",
       "      <td>0.002975</td>\n",
       "      <td>0.001487</td>\n",
       "      <td>0.000019</td>\n",
       "      <td>0.000036</td>\n",
       "      <td>0.000402</td>\n",
       "      <td>2.244922e-06</td>\n",
       "      <td>0.000088</td>\n",
       "      <td>3.058162e-06</td>\n",
       "      <td>...</td>\n",
       "      <td>0.000000</td>\n",
       "      <td>0.000000</td>\n",
       "      <td>0.000496</td>\n",
       "      <td>0.000000</td>\n",
       "      <td>0.0</td>\n",
       "      <td>0.000496</td>\n",
       "      <td>0.000000</td>\n",
       "      <td>0.000000</td>\n",
       "      <td>0.000000</td>\n",
       "      <td>0.000000</td>\n",
       "    </tr>\n",
       "    <tr>\n",
       "      <th>2212577</th>\n",
       "      <td>0.000403</td>\n",
       "      <td>0.999918</td>\n",
       "      <td>0.003966</td>\n",
       "      <td>0.011898</td>\n",
       "      <td>0.000104</td>\n",
       "      <td>0.000074</td>\n",
       "      <td>0.000020</td>\n",
       "      <td>4.943382e-06</td>\n",
       "      <td>0.000048</td>\n",
       "      <td>4.932035e-06</td>\n",
       "      <td>...</td>\n",
       "      <td>0.000000</td>\n",
       "      <td>0.000496</td>\n",
       "      <td>0.000000</td>\n",
       "      <td>0.000496</td>\n",
       "      <td>0.0</td>\n",
       "      <td>0.000000</td>\n",
       "      <td>0.000000</td>\n",
       "      <td>0.000496</td>\n",
       "      <td>0.000000</td>\n",
       "      <td>0.000000</td>\n",
       "    </tr>\n",
       "    <tr>\n",
       "      <th>2212578</th>\n",
       "      <td>0.000347</td>\n",
       "      <td>0.999972</td>\n",
       "      <td>0.004462</td>\n",
       "      <td>0.005453</td>\n",
       "      <td>0.000004</td>\n",
       "      <td>0.000011</td>\n",
       "      <td>0.000498</td>\n",
       "      <td>1.181634e-05</td>\n",
       "      <td>0.000061</td>\n",
       "      <td>1.448674e-06</td>\n",
       "      <td>...</td>\n",
       "      <td>0.000000</td>\n",
       "      <td>0.000000</td>\n",
       "      <td>0.000496</td>\n",
       "      <td>0.000000</td>\n",
       "      <td>0.0</td>\n",
       "      <td>0.000000</td>\n",
       "      <td>0.000000</td>\n",
       "      <td>0.000496</td>\n",
       "      <td>0.000000</td>\n",
       "      <td>0.000000</td>\n",
       "    </tr>\n",
       "    <tr>\n",
       "      <th>2212579</th>\n",
       "      <td>0.000439</td>\n",
       "      <td>0.999964</td>\n",
       "      <td>0.005453</td>\n",
       "      <td>0.005949</td>\n",
       "      <td>0.000002</td>\n",
       "      <td>0.000049</td>\n",
       "      <td>0.000498</td>\n",
       "      <td>2.316725e-06</td>\n",
       "      <td>0.000089</td>\n",
       "      <td>1.396654e-06</td>\n",
       "      <td>...</td>\n",
       "      <td>0.000000</td>\n",
       "      <td>0.000000</td>\n",
       "      <td>0.000496</td>\n",
       "      <td>0.000000</td>\n",
       "      <td>0.0</td>\n",
       "      <td>0.000000</td>\n",
       "      <td>0.000000</td>\n",
       "      <td>0.000000</td>\n",
       "      <td>0.000496</td>\n",
       "      <td>0.000000</td>\n",
       "    </tr>\n",
       "  </tbody>\n",
       "</table>\n",
       "<p>2212580 rows × 215 columns</p>\n",
       "</div>"
      ],
      "text/plain": [
       "              P_2      year     month       day      D_39       B_1       B_2  \\\n",
       "0        0.000335  0.999932  0.002975  0.010907  0.000296  0.000016  0.000500   \n",
       "1        0.000344  0.999994  0.000496  0.001982  0.000133  0.000028  0.000405   \n",
       "2        0.000421  0.999994  0.000496  0.001982  0.000002  0.000003  0.000402   \n",
       "3        0.000405  0.999975  0.002479  0.005949  0.000003  0.000005  0.000500   \n",
       "4        0.000446  0.999912  0.001486  0.012883  0.000045  0.000005  0.000500   \n",
       "...           ...       ...       ...       ...       ...       ...       ...   \n",
       "2212575  0.000081  0.999986  0.003470  0.002975  0.000061  0.000081  0.000067   \n",
       "2212576  0.000200  0.999992  0.002975  0.001487  0.000019  0.000036  0.000402   \n",
       "2212577  0.000403  0.999918  0.003966  0.011898  0.000104  0.000074  0.000020   \n",
       "2212578  0.000347  0.999972  0.004462  0.005453  0.000004  0.000011  0.000498   \n",
       "2212579  0.000439  0.999964  0.005453  0.005949  0.000002  0.000049  0.000498   \n",
       "\n",
       "                  R_1       S_3          D_41  ...    D_64_O    D_64_R  \\\n",
       "0        4.073525e-06  0.000087  5.011533e-07  ...  0.000496  0.000000   \n",
       "1        3.251359e-06  0.000086  8.681318e-07  ...  0.000000  0.000496   \n",
       "2        3.977243e-06  0.000096  3.026409e-06  ...  0.000496  0.000000   \n",
       "3        1.096911e-06  0.000058  4.315777e-06  ...  0.000496  0.000000   \n",
       "4        3.984478e-06  0.000061  1.777705e-06  ...  0.000495  0.000000   \n",
       "...               ...       ...           ...  ...       ...       ...   \n",
       "2212575  7.820305e-07  0.000073  2.091719e-06  ...  0.000000  0.000496   \n",
       "2212576  2.244922e-06  0.000088  3.058162e-06  ...  0.000000  0.000000   \n",
       "2212577  4.943382e-06  0.000048  4.932035e-06  ...  0.000000  0.000496   \n",
       "2212578  1.181634e-05  0.000061  1.448674e-06  ...  0.000000  0.000000   \n",
       "2212579  2.316725e-06  0.000089  1.396654e-06  ...  0.000000  0.000000   \n",
       "\n",
       "           D_64_U  D_66_1.0  D_68_1.0  D_68_2.0  D_68_3.0  D_68_4.0  D_68_5.0  \\\n",
       "0        0.000000  0.000000       0.0  0.000000  0.000000  0.000000  0.000000   \n",
       "1        0.000000  0.000496       0.0  0.000000  0.000496  0.000000  0.000000   \n",
       "2        0.000000  0.000000       0.0  0.000000  0.000000  0.000000  0.000000   \n",
       "3        0.000000  0.000000       0.0  0.000000  0.000000  0.000000  0.000000   \n",
       "4        0.000000  0.000000       0.0  0.000000  0.000000  0.000000  0.000000   \n",
       "...           ...       ...       ...       ...       ...       ...       ...   \n",
       "2212575  0.000000  0.000000       0.0  0.000000  0.000000  0.000000  0.000496   \n",
       "2212576  0.000496  0.000000       0.0  0.000496  0.000000  0.000000  0.000000   \n",
       "2212577  0.000000  0.000496       0.0  0.000000  0.000000  0.000496  0.000000   \n",
       "2212578  0.000496  0.000000       0.0  0.000000  0.000000  0.000496  0.000000   \n",
       "2212579  0.000496  0.000000       0.0  0.000000  0.000000  0.000000  0.000496   \n",
       "\n",
       "         D_68_6.0  \n",
       "0        0.000496  \n",
       "1        0.000000  \n",
       "2        0.000496  \n",
       "3        0.000496  \n",
       "4        0.000495  \n",
       "...           ...  \n",
       "2212575  0.000000  \n",
       "2212576  0.000000  \n",
       "2212577  0.000000  \n",
       "2212578  0.000000  \n",
       "2212579  0.000000  \n",
       "\n",
       "[2212580 rows x 215 columns]"
      ]
     },
     "execution_count": 24,
     "metadata": {},
     "output_type": "execute_result"
    }
   ],
   "source": [
    "\n",
    "from sklearn import preprocessing\n",
    "import pandas as pd\n",
    "d = preprocessing.normalize(X_cat_Normalize)\n",
    "names = X_cat_Normalize.columns\n",
    "scaled_df = pd.DataFrame(d, columns=names)\n",
    "scaled_df"
   ]
  },
  {
   "cell_type": "code",
   "execution_count": 25,
   "id": "e77a2861",
   "metadata": {},
   "outputs": [
    {
     "name": "stdout",
     "output_type": "stream",
     "text": [
      "736.8607220649719\n"
     ]
    }
   ],
   "source": [
    "\n",
    "from sklearn.model_selection import train_test_split\n",
    "X_train, X_test, y_train, y_test = train_test_split(scaled_df, y, test_size=0.3)\n",
    "from xgboost import XGBClassifier as xgb\n",
    "xgb_clf = xgb()\n",
    "sleep1=time.time()\n",
    "xgb_clf.fit(X_train, y_train)\n",
    "print(time.time()-sleep1)\n",
    "results1=xgb_clf.predict(X_test)\n",
    "\n"
   ]
  },
  {
   "cell_type": "code",
   "execution_count": 26,
   "id": "16cccf19",
   "metadata": {},
   "outputs": [
    {
     "name": "stdout",
     "output_type": "stream",
     "text": [
      "precision\n",
      "0.761237877750789\n",
      "recall\n",
      "0.7593749622342804\n",
      "accuracy\n",
      "0.8806235254770449\n",
      "F1\n",
      "0.7603052788558395\n"
     ]
    }
   ],
   "source": [
    "print(\"precision\")\n",
    "print(precision_score(y_test, results1))\n",
    "print(\"recall\")\n",
    "print(recall_score(y_test, results1))\n",
    "print(\"accuracy\")\n",
    "print(accuracy_score(y_test,results1))\n",
    "print(\"F1\")\n",
    "print(f1_score(y_test,results1))"
   ]
  },
  {
   "cell_type": "code",
   "execution_count": 27,
   "id": "09aefb1a",
   "metadata": {},
   "outputs": [],
   "source": [
    "from sklearn.decomposition import PCA\n",
    "tranformer_PCA=PCA(0.99)\n",
    "tranformer_PCA.fit(scaled_df)\n",
    "X_cat_pca= tranformer_PCA.transform(scaled_df)"
   ]
  },
  {
   "cell_type": "code",
   "execution_count": 28,
   "id": "aa2c612c",
   "metadata": {},
   "outputs": [
    {
     "data": {
      "text/plain": [
       "66"
      ]
     },
     "execution_count": 28,
     "metadata": {},
     "output_type": "execute_result"
    }
   ],
   "source": [
    "map={}\n",
    "count = 0\n",
    "for i in X_cat_pca:\n",
    "    obj={count:i}\n",
    "    map.update(obj)\n",
    "    \n",
    "len(map[0])\n"
   ]
  },
  {
   "cell_type": "code",
   "execution_count": 29,
   "id": "3281a443",
   "metadata": {},
   "outputs": [],
   "source": [
    "columns=[]\n",
    "for i in range(len(map[0])):\n",
    "    col = 'PCA'+str(i)\n",
    "    columns.append(col)"
   ]
  },
  {
   "cell_type": "code",
   "execution_count": 30,
   "id": "8926c042",
   "metadata": {},
   "outputs": [],
   "source": [
    "X_pca=pd.DataFrame(X_cat_pca,columns=columns)"
   ]
  },
  {
   "cell_type": "code",
   "execution_count": null,
   "id": "562ec6cc",
   "metadata": {},
   "outputs": [],
   "source": []
  },
  {
   "cell_type": "code",
   "execution_count": 31,
   "id": "06d73c68",
   "metadata": {},
   "outputs": [
    {
     "name": "stdout",
     "output_type": "stream",
     "text": [
      "266.52031993865967\n"
     ]
    }
   ],
   "source": [
    "from sklearn.model_selection import train_test_split\n",
    "X_train, X_test, y_train, y_test = train_test_split(X_pca, y, test_size=0.3)\n",
    "from xgboost import XGBClassifier as xgb\n",
    "sleep1=time.time()\n",
    "xgb_clf = xgb()\n",
    "xgb_clf.fit(X_train, y_train)\n",
    "print(time.time()-sleep1)\n",
    "results1=xgb_clf.predict(X_test)\n"
   ]
  },
  {
   "cell_type": "code",
   "execution_count": 33,
   "id": "b3f5f91b",
   "metadata": {},
   "outputs": [
    {
     "name": "stdout",
     "output_type": "stream",
     "text": [
      "precision\n",
      "0.745803772278941\n",
      "recall\n",
      "0.7295545775499347\n",
      "accuracy\n",
      "0.8706366926092315\n",
      "F1\n",
      "0.7375896928135736\n"
     ]
    }
   ],
   "source": [
    "print(\"precision\")\n",
    "print(precision_score(y_test, results1))\n",
    "print(\"recall\")\n",
    "print(recall_score(y_test, results1))\n",
    "print(\"accuracy\")\n",
    "print(accuracy_score(y_test,results1))\n",
    "print(\"F1\")\n",
    "print(f1_score(y_test,results1))"
   ]
  },
  {
   "cell_type": "markdown",
   "id": "23b45a15",
   "metadata": {},
   "source": [
    "## Lable encoding "
   ]
  },
  {
   "cell_type": "code",
   "execution_count": 34,
   "id": "dc71a08d",
   "metadata": {},
   "outputs": [],
   "source": [
    "from sklearn import preprocessing\n",
    "  \n",
    "# label_encoder object knows how to understand word labels.\n",
    "label_encoder = preprocessing.LabelEncoder()\n",
    "  \n",
    "# Encode labels in column 'species'.\n",
    "\n",
    "\n",
    "arr = ['B_30', 'B_38', 'D_114', 'D_116', 'D_117', 'D_120', 'D_126', 'D_63', 'D_64', 'D_66', 'D_68']\n",
    "\n",
    "for i in arr:\n",
    "    df[i]= label_encoder.fit_transform(df[i])\n",
    "X_cat_label=df"
   ]
  },
  {
   "cell_type": "code",
   "execution_count": 35,
   "id": "ad1d8b62",
   "metadata": {},
   "outputs": [],
   "source": [
    "X_cat_label, y = df.drop(\"Target\", axis = 1, inplace = False), df[\"Target\"]"
   ]
  },
  {
   "cell_type": "code",
   "execution_count": 36,
   "id": "e7916a53",
   "metadata": {},
   "outputs": [],
   "source": [
    "\n",
    "for col in X_cat_label.columns:\n",
    "    X_cat_label[col].fillna((X_cat_label[col].mean()), inplace=True)\n",
    "\n",
    "X_cat_label.fillna(X_cat_label['D_142'].astype(float).mean(),inplace=True)\n",
    "X_cat_label.fillna(X_cat_label['P_2'].astype(float).mean(),inplace=True)"
   ]
  },
  {
   "cell_type": "code",
   "execution_count": 37,
   "id": "93ddca1f",
   "metadata": {},
   "outputs": [],
   "source": [
    "from sklearn.model_selection import train_test_split\n",
    "X_train, X_test, y_train, y_test = train_test_split(X_cat_label, y, test_size=0.3)"
   ]
  },
  {
   "cell_type": "code",
   "execution_count": 38,
   "id": "774ca6fa",
   "metadata": {},
   "outputs": [
    {
     "name": "stdout",
     "output_type": "stream",
     "text": [
      "351.8077688217163\n"
     ]
    }
   ],
   "source": [
    "from xgboost import XGBClassifier as xgb\n",
    "xgb_clf = xgb()\n",
    "sleep1=time.time()\n",
    "xgb_clf.fit(X_train, y_train)\n",
    "print(time.time()-sleep1)\n",
    "results1=xgb_clf.predict(X_test)\n",
    "\n"
   ]
  },
  {
   "cell_type": "code",
   "execution_count": 39,
   "id": "f9c4da8b",
   "metadata": {},
   "outputs": [
    {
     "name": "stdout",
     "output_type": "stream",
     "text": [
      "precision\n",
      "0.761800792076806\n",
      "recall\n",
      "0.7596216647717652\n",
      "accuracy\n",
      "0.8809489374395502\n",
      "F1\n",
      "0.7607096678466201\n"
     ]
    }
   ],
   "source": [
    "print(\"precision\")\n",
    "print(precision_score(y_test, results1))\n",
    "print(\"recall\")\n",
    "print(recall_score(y_test, results1))\n",
    "print(\"accuracy\")\n",
    "print(accuracy_score(y_test,results1))\n",
    "print(\"F1\")\n",
    "print(f1_score(y_test,results1))"
   ]
  },
  {
   "cell_type": "code",
   "execution_count": null,
   "id": "55e7549f",
   "metadata": {},
   "outputs": [],
   "source": []
  },
  {
   "cell_type": "markdown",
   "id": "d5210bfd",
   "metadata": {},
   "source": [
    "## SVD "
   ]
  },
  {
   "cell_type": "code",
   "execution_count": 40,
   "id": "352ba279",
   "metadata": {},
   "outputs": [],
   "source": [
    "from sklearn.decomposition import TruncatedSVD \n"
   ]
  },
  {
   "cell_type": "code",
   "execution_count": 41,
   "id": "f79a0dde",
   "metadata": {},
   "outputs": [],
   "source": [
    "truncatedSVD=TruncatedSVD(30)"
   ]
  },
  {
   "cell_type": "code",
   "execution_count": 42,
   "id": "f168ebac",
   "metadata": {},
   "outputs": [],
   "source": [
    "X_truncated = truncatedSVD.fit_transform(X_cat_mean)"
   ]
  },
  {
   "cell_type": "code",
   "execution_count": 43,
   "id": "9cb395fd",
   "metadata": {},
   "outputs": [],
   "source": [
    "columns=[]\n",
    "for i in range(30):\n",
    "    col = 'SVD'+str(i)\n",
    "    columns.append(col)"
   ]
  },
  {
   "cell_type": "code",
   "execution_count": 44,
   "id": "895d21fa",
   "metadata": {},
   "outputs": [],
   "source": [
    "X_svd=pd.DataFrame(X_truncated,columns=columns)"
   ]
  },
  {
   "cell_type": "code",
   "execution_count": 45,
   "id": "87a1e2bd",
   "metadata": {},
   "outputs": [],
   "source": [
    "from sklearn.model_selection import train_test_split\n",
    "X_train, X_test, y_train, y_test = train_test_split(X_svd, y, test_size=0.3)"
   ]
  },
  {
   "cell_type": "code",
   "execution_count": 46,
   "id": "ff58d627",
   "metadata": {},
   "outputs": [
    {
     "name": "stdout",
     "output_type": "stream",
     "text": [
      "130.08787608146667\n"
     ]
    },
    {
     "data": {
      "text/plain": [
       "0.8672545173507851"
      ]
     },
     "execution_count": 46,
     "metadata": {},
     "output_type": "execute_result"
    }
   ],
   "source": [
    "from xgboost import XGBClassifier as xgb\n",
    "xgb_clf = xgb()\n",
    "sleep1=time.time()\n",
    "xgb_clf.fit(X_train, y_train)\n",
    "print(time.time()-sleep1)\n",
    "results1=xgb_clf.predict(X_test)\n",
    "\n",
    "from sklearn.metrics import accuracy_score\n",
    "accuracy_score(y_test,results1)"
   ]
  },
  {
   "cell_type": "code",
   "execution_count": 48,
   "id": "e79b38a7",
   "metadata": {},
   "outputs": [
    {
     "name": "stdout",
     "output_type": "stream",
     "text": [
      "precision\n",
      "0.7377518076134592\n",
      "recall\n",
      "0.7258957743246589\n",
      "accuracy\n",
      "0.8672545173507851\n",
      "F1\n",
      "0.7317757720582639\n"
     ]
    }
   ],
   "source": [
    "print(\"precision\")\n",
    "print(precision_score(y_test, results1))\n",
    "print(\"recall\")\n",
    "print(recall_score(y_test, results1))\n",
    "print(\"accuracy\")\n",
    "print(accuracy_score(y_test,results1))\n",
    "print(\"F1\")\n",
    "print(f1_score(y_test,results1))\n"
   ]
  },
  {
   "cell_type": "markdown",
   "id": "7df66467",
   "metadata": {},
   "source": [
    "## SVD "
   ]
  },
  {
   "cell_type": "code",
   "execution_count": 49,
   "id": "6ca8f761",
   "metadata": {},
   "outputs": [
    {
     "name": "stdout",
     "output_type": "stream",
     "text": [
      "269.8506512641907\n",
      "precision\n",
      "0.745282379541268\n",
      "recall\n",
      "0.7302029951288412\n",
      "accuracy\n",
      "0.8703745551949911\n",
      "F1\n",
      "0.24984648519149272\n"
     ]
    }
   ],
   "source": [
    "from sklearn.decomposition import TruncatedSVD \n",
    "truncatedSVD=TruncatedSVD(70)\n",
    "X_truncated = truncatedSVD.fit_transform(X_cat_mean)\n",
    "columns=[]\n",
    "for i in range(70):\n",
    "    col = 'SVD'+str(i)\n",
    "    columns.append(col)\n",
    "X_svd=pd.DataFrame(X_truncated,columns=columns)\n",
    "from sklearn.model_selection import train_test_split\n",
    "X_train, X_test, y_train, y_test = train_test_split(X_svd, y, test_size=0.3)\n",
    "from xgboost import XGBClassifier as xgb\n",
    "xgb_clf = xgb()\n",
    "sleep1=time.time()\n",
    "xgb_clf.fit(X_train, y_train)\n",
    "print(time.time()-sleep1)\n",
    "results1=xgb_clf.predict(X_test)\n",
    "print(\"precision\")\n",
    "print(precision_score(y_test, results1))\n",
    "print(\"recall\")\n",
    "print(recall_score(y_test, results1))\n",
    "print(\"accuracy\")\n",
    "print(accuracy_score(y_test,results1))\n",
    "print(\"F1\")\n",
    "print(f1_score(y_test,results3))"
   ]
  },
  {
   "cell_type": "code",
   "execution_count": 50,
   "id": "f23efe4a",
   "metadata": {},
   "outputs": [
    {
     "name": "stdout",
     "output_type": "stream",
     "text": [
      "502.5852520465851\n",
      "precision\n",
      "0.7474302132613381\n",
      "recall\n",
      "0.7339770875392212\n",
      "accuracy\n",
      "0.8726433997113475\n",
      "F1\n",
      "0.2476060357652488\n"
     ]
    }
   ],
   "source": [
    "from sklearn.decomposition import TruncatedSVD \n",
    "truncatedSVD=TruncatedSVD(100)\n",
    "X_truncated = truncatedSVD.fit_transform(X_cat_mean)\n",
    "columns=[]\n",
    "for i in range(100):\n",
    "    col = 'SVD'+str(i)\n",
    "    columns.append(col)\n",
    "X_svd=pd.DataFrame(X_truncated,columns=columns)\n",
    "from sklearn.model_selection import train_test_split\n",
    "X_train, X_test, y_train, y_test = train_test_split(X_svd, y, test_size=0.3)\n",
    "from xgboost import XGBClassifier as xgb\n",
    "xgb_clf = xgb()\n",
    "sleep1=time.time()\n",
    "xgb_clf.fit(X_train, y_train)\n",
    "print(time.time()-sleep1)\n",
    "results1=xgb_clf.predict(X_test)\n",
    "print(\"precision\")\n",
    "print(precision_score(y_test, results1))\n",
    "print(\"recall\")\n",
    "print(recall_score(y_test, results1))\n",
    "print(\"accuracy\")\n",
    "print(accuracy_score(y_test,results1))\n",
    "print(\"F1\")\n",
    "print(f1_score(y_test,results3))"
   ]
  },
  {
   "cell_type": "code",
   "execution_count": 51,
   "id": "3cb8f4f9",
   "metadata": {},
   "outputs": [
    {
     "name": "stdout",
     "output_type": "stream",
     "text": [
      "451.9024670124054\n",
      "precision\n",
      "0.7505637135285069\n",
      "recall\n",
      "0.7350341514764691\n",
      "accuracy\n",
      "0.8731887660559167\n",
      "F1\n",
      "0.24814436829784592\n"
     ]
    }
   ],
   "source": [
    "from sklearn.decomposition import TruncatedSVD \n",
    "truncatedSVD=TruncatedSVD(120)\n",
    "X_truncated = truncatedSVD.fit_transform(X_cat_mean)\n",
    "columns=[]\n",
    "for i in range(120):\n",
    "    col = 'SVD'+str(i)\n",
    "    columns.append(col)\n",
    "X_svd=pd.DataFrame(X_truncated,columns=columns)\n",
    "from sklearn.model_selection import train_test_split\n",
    "X_train, X_test, y_train, y_test = train_test_split(X_svd, y, test_size=0.3)\n",
    "from xgboost import XGBClassifier as xgb\n",
    "xgb_clf = xgb()\n",
    "sleep1=time.time()\n",
    "xgb_clf.fit(X_train, y_train)\n",
    "print(time.time()-sleep1)\n",
    "results1=xgb_clf.predict(X_test)\n",
    "print(\"precision\")\n",
    "print(precision_score(y_test, results1))\n",
    "print(\"recall\")\n",
    "print(recall_score(y_test, results1))\n",
    "print(\"accuracy\")\n",
    "print(accuracy_score(y_test,results1))\n",
    "print(\"F1\")\n",
    "print(f1_score(y_test,results3))"
   ]
  },
  {
   "cell_type": "code",
   "execution_count": 52,
   "id": "e10cd7c7",
   "metadata": {},
   "outputs": [
    {
     "name": "stdout",
     "output_type": "stream",
     "text": [
      "452.78914403915405\n",
      "precision\n",
      "0.7514213069218729\n",
      "recall\n",
      "0.7369152272961675\n",
      "accuracy\n",
      "0.8741348712061635\n",
      "F1\n",
      "0.2480143867874461\n"
     ]
    }
   ],
   "source": [
    "from sklearn.decomposition import TruncatedSVD \n",
    "truncatedSVD=TruncatedSVD(140)\n",
    "X_truncated = truncatedSVD.fit_transform(X_cat_mean)\n",
    "columns=[]\n",
    "for i in range(140):\n",
    "    col = 'SVD'+str(i)\n",
    "    columns.append(col)\n",
    "X_svd=pd.DataFrame(X_truncated,columns=columns)\n",
    "from sklearn.model_selection import train_test_split\n",
    "X_train, X_test, y_train, y_test = train_test_split(X_svd, y, test_size=0.3)\n",
    "from xgboost import XGBClassifier as xgb\n",
    "xgb_clf = xgb()\n",
    "sleep1=time.time()\n",
    "xgb_clf.fit(X_train, y_train)\n",
    "print(time.time()-sleep1)\n",
    "results1=xgb_clf.predict(X_test)\n",
    "print(\"precision\")\n",
    "print(precision_score(y_test, results1))\n",
    "print(\"recall\")\n",
    "print(recall_score(y_test, results1))\n",
    "print(\"accuracy\")\n",
    "print(accuracy_score(y_test,results1))\n",
    "print(\"F1\")\n",
    "print(f1_score(y_test,results3))"
   ]
  },
  {
   "cell_type": "code",
   "execution_count": null,
   "id": "0a0cf6b2",
   "metadata": {},
   "outputs": [],
   "source": []
  },
  {
   "cell_type": "code",
   "execution_count": null,
   "id": "9d157bda",
   "metadata": {},
   "outputs": [],
   "source": []
  },
  {
   "cell_type": "code",
   "execution_count": null,
   "id": "adaddf9d",
   "metadata": {},
   "outputs": [],
   "source": []
  },
  {
   "cell_type": "code",
   "execution_count": null,
   "id": "adcf4a9f",
   "metadata": {},
   "outputs": [],
   "source": []
  }
 ],
 "metadata": {
  "kernelspec": {
   "display_name": "Python 3 (ipykernel)",
   "language": "python",
   "name": "python3"
  },
  "language_info": {
   "codemirror_mode": {
    "name": "ipython",
    "version": 3
   },
   "file_extension": ".py",
   "mimetype": "text/x-python",
   "name": "python",
   "nbconvert_exporter": "python",
   "pygments_lexer": "ipython3",
   "version": "3.11.0"
  }
 },
 "nbformat": 4,
 "nbformat_minor": 5
}
